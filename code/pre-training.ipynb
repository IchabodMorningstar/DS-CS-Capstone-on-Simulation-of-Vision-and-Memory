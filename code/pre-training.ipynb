{
 "cells": [
  {
   "cell_type": "code",
   "execution_count": 4,
   "metadata": {},
   "outputs": [
    {
     "name": "stdout",
     "output_type": "stream",
     "text": [
      "Batch of images shape: torch.Size([256, 3, 32, 32])\n",
      "Batch of labels shape: torch.Size([256])\n"
     ]
    }
   ],
   "source": [
    "import torch\n",
    "import torchvision\n",
    "import torchvision.transforms as transforms\n",
    "from torch.utils.data import DataLoader\n",
    "\n",
    "# Define transformations to normalize the dataset (if not done already)\n",
    "transform = transforms.Compose([\n",
    "    transforms.ToTensor(),\n",
    "    transforms.Normalize((0.5, 0.5, 0.5), (0.5, 0.5, 0.5))\n",
    "])\n",
    "\n",
    "# Load CIFAR-10 training and test datasets\n",
    "trainset = torchvision.datasets.CIFAR10(root='../data/cifar10', train=True,\n",
    "                                        download=False, transform=transform)\n",
    "\n",
    "testset = torchvision.datasets.CIFAR10(root='../data/cifar10', train=False,\n",
    "                                       download=False, transform=transform)\n",
    "\n",
    "# Create DataLoader to load the data in batches\n",
    "trainloader = DataLoader(trainset, batch_size=256, shuffle=True, num_workers=2)\n",
    "testloader = DataLoader(testset, batch_size=256, shuffle=False, num_workers=2)\n",
    "\n",
    "# Check the shape of one batch of images\n",
    "data_iter = iter(trainloader)\n",
    "images, labels = next(data_iter) \n",
    "print(\"Batch of images shape:\", images.shape)\n",
    "print(\"Batch of labels shape:\", labels.shape)\n",
    "\n",
    "\n",
    "# Output:\n",
    "# Batch of images shape: torch.Size([64, 3, 32, 32])  # 64 images, 3 channels (RGB), 32x32 pixels\n",
    "# Batch of labels shape: torch.Size([64])  # 64 corresponding label\n"
   ]
  },
  {
   "cell_type": "code",
   "execution_count": 1,
   "metadata": {},
   "outputs": [],
   "source": [
    "import sys\n",
    "import os\n",
    "\n",
    "sys.path.append('/home/cc7486/Documents/capstone/lim/natural-wm')"
   ]
  },
  {
   "cell_type": "code",
   "execution_count": 2,
   "metadata": {},
   "outputs": [
    {
     "name": "stderr",
     "output_type": "stream",
     "text": [
      "/home/cc7486/anaconda3/envs/wm/lib/python3.10/site-packages/tqdm/auto.py:21: TqdmWarning: IProgress not found. Please update jupyter and ipywidgets. See https://ipywidgets.readthedocs.io/en/stable/user_install.html\n",
      "  from .autonotebook import tqdm as notebook_tqdm\n"
     ]
    }
   ],
   "source": [
    "from sensory_model import ResNet\n",
    "from configs.configs import BaseConfig\n",
    "\n",
    "config = BaseConfig()\n",
    "image_size = (3, 32, 32)\n",
    "\n",
    "# Instantiate and print the model\n",
    "model = ResNet(config.resblock_config, \n",
    "            image_size, \n",
    "            norm_layer=config.cnn_norm,\n",
    "            width=config.cnn_width,\n",
    "            spatial_average=config.spatial_average,\n",
    "            num_classes=config.model_class_size\n",
    "        )  # For CIFAR-10, num_classes=10\n",
    "# print(model)\n"
   ]
  },
  {
   "cell_type": "code",
   "execution_count": 5,
   "metadata": {},
   "outputs": [
    {
     "name": "stdout",
     "output_type": "stream",
     "text": [
      "Model saved as resnet_untrained.pth\n"
     ]
    }
   ],
   "source": [
    "# Save the model\n",
    "torch.save(model.state_dict(), 'resnet_untrained.pth')\n",
    "print(\"Model saved as resnet_untrained.pth\")"
   ]
  },
  {
   "cell_type": "code",
   "execution_count": 4,
   "metadata": {},
   "outputs": [
    {
     "data": {
      "text/plain": [
       "device(type='cuda')"
      ]
     },
     "execution_count": 4,
     "metadata": {},
     "output_type": "execute_result"
    }
   ],
   "source": [
    "device = torch.device(\"cuda\" if torch.cuda.is_available() else \"cpu\")\n",
    "device"
   ]
  },
  {
   "cell_type": "code",
   "execution_count": 5,
   "metadata": {},
   "outputs": [],
   "source": [
    "import torch\n",
    "import torch.nn as nn\n",
    "import torch.optim as optim\n",
    "import torchvision\n",
    "import torchvision.transforms as transforms\n",
    "from torch.utils.data import DataLoader\n",
    "\n",
    "# Function to train the model\n",
    "def train(model, trainloader, criterion, optimizer, num_epochs=10, device='cpu'):\n",
    "    model.train()  # Set the model to training mode\n",
    "    for epoch in range(num_epochs):\n",
    "        running_loss = 0.0\n",
    "        correct = 0\n",
    "        total = 0\n",
    "        \n",
    "        for i, (inputs, labels) in enumerate(trainloader):\n",
    "            # Move inputs and labels to the specified device\n",
    "            inputs, labels = inputs.to(device), labels.to(device)\n",
    "\n",
    "            # Zero the gradients\n",
    "            optimizer.zero_grad()\n",
    "\n",
    "            # Forward pass\n",
    "            outputs = model(inputs)\n",
    "            loss = criterion(outputs, labels)\n",
    "\n",
    "            # Backward pass and optimize\n",
    "            loss.backward()\n",
    "            optimizer.step()\n",
    "\n",
    "            # Print statistics\n",
    "            running_loss += loss.item()\n",
    "            \n",
    "            # Calculate accuracy\n",
    "            _, predicted = torch.max(outputs.data, 1)\n",
    "            total += labels.size(0)\n",
    "            correct += (predicted == labels).sum().item()\n",
    "            \n",
    "            if i % 100 == 99:  # Print every 100 mini-batches\n",
    "                avg_loss = running_loss / 100\n",
    "                accuracy = 100 * correct / total\n",
    "                print(f\"[Epoch {epoch + 1}, Batch {i + 1}] loss: {avg_loss:.3f}, accuracy: {accuracy:.2f}%\")\n",
    "                running_loss = 0.0\n",
    "                correct = 0\n",
    "                total = 0  # Reset for the next 100 mini-batches\n",
    "    print(\"Finished Training!\")\n",
    "\n",
    "\n",
    "# Function to evaluate the model\n",
    "def evaluate(model, testloader):\n",
    "    model.eval()  # Set the model to evaluation mode\n",
    "    correct = 0\n",
    "    total = 0\n",
    "    with torch.no_grad():  # Disable gradient computation\n",
    "        for inputs, labels in testloader:\n",
    "            inputs, labels = inputs.to(device), labels.to(device)\n",
    "            outputs = model(inputs)\n",
    "            _, predicted = torch.max(outputs.data, 1)  # Get the predicted class\n",
    "            total += labels.size(0)\n",
    "            correct += (predicted == labels).sum().item()\n",
    "    accuracy = 100 * correct / total\n",
    "    print(f'Accuracy on the test set: {accuracy:.2f}%')\n",
    "\n"
   ]
  },
  {
   "cell_type": "code",
   "execution_count": 6,
   "metadata": {},
   "outputs": [
    {
     "name": "stdout",
     "output_type": "stream",
     "text": [
      "[Epoch 1, Batch 100] loss: 2.007, accuracy: 23.79%\n",
      "[Epoch 2, Batch 100] loss: 1.560, accuracy: 42.42%\n",
      "[Epoch 3, Batch 100] loss: 1.356, accuracy: 51.04%\n",
      "[Epoch 4, Batch 100] loss: 1.224, accuracy: 56.43%\n",
      "[Epoch 5, Batch 100] loss: 1.124, accuracy: 59.69%\n",
      "[Epoch 6, Batch 100] loss: 1.049, accuracy: 62.37%\n",
      "[Epoch 7, Batch 100] loss: 0.972, accuracy: 65.22%\n",
      "[Epoch 8, Batch 100] loss: 0.939, accuracy: 66.69%\n",
      "[Epoch 9, Batch 100] loss: 0.856, accuracy: 70.12%\n",
      "[Epoch 10, Batch 100] loss: 0.847, accuracy: 70.08%\n",
      "[Epoch 11, Batch 100] loss: 0.783, accuracy: 72.46%\n",
      "[Epoch 12, Batch 100] loss: 0.738, accuracy: 73.77%\n",
      "[Epoch 13, Batch 100] loss: 0.726, accuracy: 74.73%\n",
      "[Epoch 14, Batch 100] loss: 0.702, accuracy: 75.27%\n",
      "[Epoch 15, Batch 100] loss: 0.642, accuracy: 77.74%\n",
      "[Epoch 16, Batch 100] loss: 0.637, accuracy: 77.84%\n",
      "[Epoch 17, Batch 100] loss: 0.600, accuracy: 79.01%\n",
      "[Epoch 18, Batch 100] loss: 0.596, accuracy: 79.10%\n",
      "[Epoch 19, Batch 100] loss: 0.556, accuracy: 80.55%\n",
      "[Epoch 20, Batch 100] loss: 0.522, accuracy: 82.04%\n",
      "[Epoch 21, Batch 100] loss: 0.523, accuracy: 81.82%\n",
      "[Epoch 22, Batch 100] loss: 0.497, accuracy: 82.85%\n",
      "[Epoch 23, Batch 100] loss: 0.482, accuracy: 83.27%\n",
      "[Epoch 24, Batch 100] loss: 0.454, accuracy: 84.22%\n",
      "[Epoch 25, Batch 100] loss: 0.464, accuracy: 83.80%\n",
      "[Epoch 26, Batch 100] loss: 0.432, accuracy: 84.96%\n",
      "[Epoch 27, Batch 100] loss: 0.405, accuracy: 85.75%\n",
      "[Epoch 28, Batch 100] loss: 0.383, accuracy: 86.58%\n",
      "[Epoch 29, Batch 100] loss: 0.378, accuracy: 86.96%\n",
      "[Epoch 30, Batch 100] loss: 0.358, accuracy: 87.30%\n",
      "[Epoch 31, Batch 100] loss: 0.325, accuracy: 88.85%\n",
      "[Epoch 32, Batch 100] loss: 0.353, accuracy: 87.48%\n",
      "[Epoch 33, Batch 100] loss: 0.315, accuracy: 89.15%\n",
      "[Epoch 34, Batch 100] loss: 0.295, accuracy: 89.73%\n",
      "[Epoch 35, Batch 100] loss: 0.299, accuracy: 89.59%\n",
      "[Epoch 36, Batch 100] loss: 0.278, accuracy: 90.36%\n",
      "[Epoch 37, Batch 100] loss: 0.263, accuracy: 90.82%\n",
      "[Epoch 38, Batch 100] loss: 0.248, accuracy: 91.49%\n",
      "[Epoch 39, Batch 100] loss: 0.240, accuracy: 91.71%\n",
      "[Epoch 40, Batch 100] loss: 0.243, accuracy: 91.57%\n",
      "[Epoch 41, Batch 100] loss: 0.204, accuracy: 93.14%\n",
      "[Epoch 42, Batch 100] loss: 0.204, accuracy: 93.05%\n",
      "[Epoch 43, Batch 100] loss: 0.200, accuracy: 93.12%\n",
      "[Epoch 44, Batch 100] loss: 0.214, accuracy: 92.38%\n",
      "[Epoch 45, Batch 100] loss: 0.192, accuracy: 93.49%\n",
      "[Epoch 46, Batch 100] loss: 0.208, accuracy: 92.56%\n",
      "[Epoch 47, Batch 100] loss: 0.149, accuracy: 95.00%\n",
      "[Epoch 48, Batch 100] loss: 0.141, accuracy: 95.23%\n",
      "[Epoch 49, Batch 100] loss: 0.136, accuracy: 95.54%\n",
      "[Epoch 50, Batch 100] loss: 0.155, accuracy: 94.63%\n",
      "[Epoch 51, Batch 100] loss: 0.122, accuracy: 95.89%\n",
      "[Epoch 52, Batch 100] loss: 0.172, accuracy: 93.91%\n",
      "[Epoch 53, Batch 100] loss: 0.200, accuracy: 92.84%\n",
      "[Epoch 54, Batch 100] loss: 0.111, accuracy: 96.36%\n",
      "[Epoch 55, Batch 100] loss: 0.145, accuracy: 94.83%\n",
      "[Epoch 56, Batch 100] loss: 0.108, accuracy: 96.31%\n",
      "[Epoch 57, Batch 100] loss: 0.116, accuracy: 95.99%\n",
      "[Epoch 58, Batch 100] loss: 0.183, accuracy: 93.36%\n",
      "[Epoch 59, Batch 100] loss: 0.068, accuracy: 97.95%\n",
      "[Epoch 60, Batch 100] loss: 0.093, accuracy: 96.93%\n",
      "[Epoch 61, Batch 100] loss: 0.081, accuracy: 97.50%\n",
      "[Epoch 62, Batch 100] loss: 0.072, accuracy: 97.78%\n",
      "[Epoch 63, Batch 100] loss: 0.132, accuracy: 95.24%\n",
      "[Epoch 64, Batch 100] loss: 0.069, accuracy: 97.80%\n",
      "[Epoch 65, Batch 100] loss: 0.071, accuracy: 97.68%\n",
      "[Epoch 66, Batch 100] loss: 0.098, accuracy: 96.44%\n",
      "[Epoch 67, Batch 100] loss: 0.074, accuracy: 97.46%\n",
      "[Epoch 68, Batch 100] loss: 0.093, accuracy: 96.79%\n",
      "[Epoch 69, Batch 100] loss: 0.130, accuracy: 95.38%\n",
      "[Epoch 70, Batch 100] loss: 0.029, accuracy: 99.36%\n",
      "[Epoch 71, Batch 100] loss: 0.101, accuracy: 96.48%\n",
      "[Epoch 72, Batch 100] loss: 0.160, accuracy: 94.21%\n",
      "[Epoch 73, Batch 100] loss: 0.031, accuracy: 99.24%\n",
      "[Epoch 74, Batch 100] loss: 0.023, accuracy: 99.47%\n",
      "[Epoch 75, Batch 100] loss: 0.011, accuracy: 99.86%\n",
      "Finished Training!\n"
     ]
    }
   ],
   "source": [
    "model = ResNet(config.resblock_config, \n",
    "            image_size, \n",
    "            norm_layer=config.cnn_norm,\n",
    "            width=config.cnn_width,\n",
    "            spatial_average=config.spatial_average,\n",
    "            num_classes=config.model_class_size\n",
    "        ).to(device)\n",
    "criterion = nn.CrossEntropyLoss()\n",
    "optimizer = optim.Adam(model.parameters(), lr=0.001, weight_decay=1e-5)\n",
    "\n",
    "# Train the model\n",
    "train(model, trainloader, criterion, optimizer, num_epochs=75, device=device)"
   ]
  },
  {
   "cell_type": "code",
   "execution_count": 9,
   "metadata": {},
   "outputs": [
    {
     "name": "stdout",
     "output_type": "stream",
     "text": [
      "[Epoch 1, Batch 100] loss: 1.606, accuracy: 40.46%\n",
      "[Epoch 2, Batch 100] loss: 1.040, accuracy: 62.72%\n",
      "[Epoch 3, Batch 100] loss: 0.802, accuracy: 71.49%\n",
      "[Epoch 4, Batch 100] loss: 0.682, accuracy: 76.07%\n",
      "[Epoch 5, Batch 100] loss: 0.582, accuracy: 79.82%\n",
      "[Epoch 6, Batch 100] loss: 0.499, accuracy: 82.68%\n",
      "[Epoch 7, Batch 100] loss: 0.451, accuracy: 84.27%\n",
      "[Epoch 8, Batch 100] loss: 0.402, accuracy: 86.25%\n",
      "[Epoch 9, Batch 100] loss: 0.359, accuracy: 87.80%\n",
      "[Epoch 10, Batch 100] loss: 0.312, accuracy: 89.16%\n",
      "[Epoch 11, Batch 100] loss: 0.275, accuracy: 90.53%\n",
      "[Epoch 12, Batch 100] loss: 0.235, accuracy: 91.89%\n",
      "[Epoch 13, Batch 100] loss: 0.201, accuracy: 93.25%\n",
      "[Epoch 14, Batch 100] loss: 0.183, accuracy: 93.81%\n",
      "[Epoch 15, Batch 100] loss: 0.165, accuracy: 94.30%\n",
      "[Epoch 16, Batch 100] loss: 0.136, accuracy: 95.36%\n",
      "[Epoch 17, Batch 100] loss: 0.119, accuracy: 96.10%\n",
      "[Epoch 18, Batch 100] loss: 0.120, accuracy: 95.78%\n",
      "[Epoch 19, Batch 100] loss: 0.104, accuracy: 96.42%\n",
      "[Epoch 20, Batch 100] loss: 0.100, accuracy: 96.61%\n",
      "[Epoch 21, Batch 100] loss: 0.087, accuracy: 97.00%\n",
      "[Epoch 22, Batch 100] loss: 0.078, accuracy: 97.21%\n",
      "[Epoch 23, Batch 100] loss: 0.067, accuracy: 97.77%\n",
      "[Epoch 24, Batch 100] loss: 0.068, accuracy: 97.67%\n",
      "[Epoch 25, Batch 100] loss: 0.078, accuracy: 97.29%\n",
      "[Epoch 26, Batch 100] loss: 0.065, accuracy: 97.78%\n",
      "[Epoch 27, Batch 100] loss: 0.058, accuracy: 98.05%\n",
      "[Epoch 28, Batch 100] loss: 0.057, accuracy: 97.99%\n",
      "[Epoch 29, Batch 100] loss: 0.052, accuracy: 98.20%\n",
      "[Epoch 30, Batch 100] loss: 0.057, accuracy: 98.03%\n",
      "[Epoch 31, Batch 100] loss: 0.060, accuracy: 97.84%\n",
      "[Epoch 32, Batch 100] loss: 0.057, accuracy: 97.95%\n",
      "[Epoch 33, Batch 100] loss: 0.048, accuracy: 98.41%\n",
      "[Epoch 34, Batch 100] loss: 0.038, accuracy: 98.72%\n",
      "[Epoch 35, Batch 100] loss: 0.074, accuracy: 97.38%\n",
      "[Epoch 36, Batch 100] loss: 0.031, accuracy: 98.95%\n",
      "[Epoch 37, Batch 100] loss: 0.033, accuracy: 98.94%\n",
      "[Epoch 38, Batch 100] loss: 0.043, accuracy: 98.52%\n",
      "[Epoch 39, Batch 100] loss: 0.039, accuracy: 98.70%\n",
      "[Epoch 40, Batch 100] loss: 0.051, accuracy: 98.26%\n",
      "[Epoch 41, Batch 100] loss: 0.039, accuracy: 98.60%\n",
      "[Epoch 42, Batch 100] loss: 0.038, accuracy: 98.70%\n",
      "[Epoch 43, Batch 100] loss: 0.043, accuracy: 98.54%\n",
      "[Epoch 44, Batch 100] loss: 0.044, accuracy: 98.49%\n",
      "[Epoch 45, Batch 100] loss: 0.025, accuracy: 99.16%\n",
      "[Epoch 46, Batch 100] loss: 0.043, accuracy: 98.51%\n",
      "[Epoch 47, Batch 100] loss: 0.034, accuracy: 98.82%\n",
      "[Epoch 48, Batch 100] loss: 0.028, accuracy: 99.05%\n",
      "[Epoch 49, Batch 100] loss: 0.031, accuracy: 98.93%\n",
      "[Epoch 50, Batch 100] loss: 0.033, accuracy: 98.88%\n",
      "[Epoch 51, Batch 100] loss: 0.041, accuracy: 98.56%\n",
      "[Epoch 52, Batch 100] loss: 0.040, accuracy: 98.62%\n",
      "[Epoch 53, Batch 100] loss: 0.029, accuracy: 99.03%\n",
      "[Epoch 54, Batch 100] loss: 0.024, accuracy: 99.18%\n",
      "[Epoch 55, Batch 100] loss: 0.026, accuracy: 99.17%\n",
      "[Epoch 56, Batch 100] loss: 0.044, accuracy: 98.58%\n",
      "[Epoch 57, Batch 100] loss: 0.039, accuracy: 98.63%\n",
      "[Epoch 58, Batch 100] loss: 0.034, accuracy: 98.82%\n",
      "[Epoch 59, Batch 100] loss: 0.024, accuracy: 99.19%\n",
      "[Epoch 60, Batch 100] loss: 0.026, accuracy: 99.13%\n",
      "[Epoch 61, Batch 100] loss: 0.013, accuracy: 99.57%\n",
      "[Epoch 62, Batch 100] loss: 0.037, accuracy: 98.68%\n",
      "[Epoch 63, Batch 100] loss: 0.035, accuracy: 98.74%\n",
      "[Epoch 64, Batch 100] loss: 0.021, accuracy: 99.35%\n",
      "[Epoch 65, Batch 100] loss: 0.015, accuracy: 99.54%\n",
      "[Epoch 66, Batch 100] loss: 0.028, accuracy: 99.01%\n",
      "[Epoch 67, Batch 100] loss: 0.036, accuracy: 98.71%\n",
      "[Epoch 68, Batch 100] loss: 0.026, accuracy: 99.04%\n",
      "[Epoch 69, Batch 100] loss: 0.026, accuracy: 99.16%\n",
      "[Epoch 70, Batch 100] loss: 0.017, accuracy: 99.42%\n",
      "[Epoch 71, Batch 100] loss: 0.022, accuracy: 99.25%\n",
      "[Epoch 72, Batch 100] loss: 0.025, accuracy: 99.10%\n",
      "[Epoch 73, Batch 100] loss: 0.030, accuracy: 98.95%\n",
      "[Epoch 74, Batch 100] loss: 0.030, accuracy: 98.97%\n",
      "[Epoch 75, Batch 100] loss: 0.023, accuracy: 99.20%\n",
      "Finished Training!\n"
     ]
    }
   ],
   "source": [
    "model = ResNet20(num_classes=10).to(device)\n",
    "criterion = nn.CrossEntropyLoss()\n",
    "optimizer = optim.Adam(model.parameters(), lr=0.001, weight_decay=1e-5)\n",
    "\n",
    "# Train the model\n",
    "train(model, trainloader, criterion, optimizer, num_epochs=75, device=device)"
   ]
  },
  {
   "cell_type": "code",
   "execution_count": 11,
   "metadata": {},
   "outputs": [
    {
     "name": "stdout",
     "output_type": "stream",
     "text": [
      "Accuracy on the test set: 80.04%\n"
     ]
    }
   ],
   "source": [
    "# Evaluate the model\n",
    "evaluate(model, testloader)"
   ]
  },
  {
   "cell_type": "code",
   "execution_count": 7,
   "metadata": {},
   "outputs": [
    {
     "name": "stdout",
     "output_type": "stream",
     "text": [
      "Model saved as resnet_cifar10-75epoch.pth\n"
     ]
    }
   ],
   "source": [
    "# Save the model\n",
    "torch.save(model.state_dict(), 'resnet_cifar10-75epoch.pth')\n",
    "print(\"Model saved as resnet_cifar10-75epoch.pth\")"
   ]
  },
  {
   "cell_type": "markdown",
   "metadata": {},
   "source": [
    "Pre-trained ResNet18 and ResNet50"
   ]
  },
  {
   "cell_type": "code",
   "execution_count": null,
   "metadata": {},
   "outputs": [],
   "source": [
    "import torch\n",
    "import torchvision.models as models\n",
    "\n",
    "# Load pre-trained ResNet18\n",
    "resnet18 = models.resnet18(pretrained=True)\n",
    "# Set the model to evaluation mode\n",
    "resnet18.eval()\n",
    "\n",
    "# Load pre-trained ResNet50\n",
    "resnet50 = models.resnet50(pretrained=True)\n",
    "# Set the model to evaluation mode\n",
    "resnet50.eval()\n"
   ]
  },
  {
   "cell_type": "code",
   "execution_count": 1,
   "metadata": {},
   "outputs": [
    {
     "name": "stdout",
     "output_type": "stream",
     "text": [
      "torch.Size([128, 30, 3, 32, 32])\n",
      "torch.Size([128])\n"
     ]
    }
   ],
   "source": [
    "import os\n",
    "from PIL import Image\n",
    "import torch\n",
    "from torch.utils.data import Dataset, DataLoader\n",
    "from sklearn.model_selection import train_test_split\n",
    "from torchvision import transforms\n",
    "import numpy as np\n",
    "\n",
    "class SequenceDataset(Dataset):\n",
    "    def __init__(self, root_dir, transform=None):\n",
    "        self.root_dir = root_dir\n",
    "        self.transform = transform\n",
    "        self.data = []\n",
    "        self.labels = []\n",
    "        \n",
    "        for subfolder in ['1', '2', '4', '8']:\n",
    "        # for subfolder in ['1']:\n",
    "            subfolder_path = os.path.join(self.root_dir, subfolder)\n",
    "            for label in ['changed', 'unchanged']:\n",
    "                label_path = os.path.join(subfolder_path, label)\n",
    "                for sequence_folder in os.listdir(label_path):\n",
    "                    sequence_path = os.path.join(label_path, sequence_folder)\n",
    "                    images = [os.path.join(sequence_path, img) for img in sorted(os.listdir(sequence_path))]\n",
    "                    self.data.append(images)\n",
    "                    self.labels.append(int(subfolder))  # Map \"unchanged\" to 0 and \"changed\" to 1\n",
    "\n",
    "    def __len__(self):\n",
    "        return len(self.data)\n",
    "\n",
    "    def __getitem__(self, idx):\n",
    "        image_paths = self.data[idx]\n",
    "        images = [Image.open(img_path) for img_path in image_paths]\n",
    "        if self.transform:\n",
    "            images = [self.transform(img) for img in images]\n",
    "        images = torch.stack(images, dim=0)  # Stack the images to create a tensor of shape (30, C, H, W)\n",
    "        label = np.log2(self.labels[idx]).astype(int)\n",
    "        return images, label\n",
    "\n",
    "# Set your root directory\n",
    "root_dir = '../data/RobertYang-500'\n",
    "\n",
    "# Define any transformations (optional)\n",
    "transform = transforms.Compose([\n",
    "    transforms.Resize((32, 32)),  # Resize images to 224x224, can be changed as needed\n",
    "    transforms.ToTensor(),\n",
    "])\n",
    "\n",
    "# Create the dataset\n",
    "dataset = SequenceDataset(root_dir=root_dir, transform=transform)\n",
    "\n",
    "# Split into training and testing sets\n",
    "train_data, test_data = train_test_split(dataset, test_size=0.2, random_state=42)\n",
    "train_data, vali_data = train_test_split(train_data, test_size=0.25, random_state=42)\n",
    "\n",
    "# Create DataLoaders\n",
    "train_loader = DataLoader(train_data, batch_size=128, shuffle=True, num_workers=4)\n",
    "vali_loader = DataLoader(vali_data, batch_size=128, shuffle=False, num_workers=4)\n",
    "test_loader = DataLoader(test_data, batch_size=128, shuffle=False, num_workers=4)\n",
    "\n",
    "# Example of how to iterate over the DataLoader\n",
    "for images, labels in train_loader:\n",
    "    print(images.shape)  # Should print something like (16, 30, 3, 224, 224) for a batch of 16\n",
    "    print(labels.shape)  # Should print (16,)\n",
    "    break\n"
   ]
  },
  {
   "cell_type": "code",
   "execution_count": null,
   "metadata": {},
   "outputs": [
    {
     "name": "stderr",
     "output_type": "stream",
     "text": [
      "/home/cc7486/anaconda3/envs/torch/lib/python3.11/site-packages/torchvision/models/_utils.py:208: UserWarning: The parameter 'pretrained' is deprecated since 0.13 and may be removed in the future, please use 'weights' instead.\n",
      "  warnings.warn(\n",
      "/home/cc7486/anaconda3/envs/torch/lib/python3.11/site-packages/torchvision/models/_utils.py:223: UserWarning: Arguments other than a weight enum or `None` for 'weights' are deprecated since 0.13 and may be removed in the future. The current behavior is equivalent to passing `weights=None`.\n",
      "  warnings.warn(msg)\n"
     ]
    }
   ],
   "source": [
    "device = torch.device('cuda' if torch.cuda.is_available() else 'cpu')\n",
    "\n",
    "import torch\n",
    "import torch.nn as nn\n",
    "import torchvision.models as models\n",
    "\n",
    "resnet_model = models.resnet18(pretrained=False)"
   ]
  },
  {
   "cell_type": "code",
   "execution_count": 5,
   "metadata": {},
   "outputs": [
    {
     "name": "stderr",
     "output_type": "stream",
     "text": [
      "/home/cc7486/anaconda3/envs/torch/lib/python3.11/site-packages/torchvision/models/_utils.py:208: UserWarning: The parameter 'pretrained' is deprecated since 0.13 and may be removed in the future, please use 'weights' instead.\n",
      "  warnings.warn(\n",
      "/home/cc7486/anaconda3/envs/torch/lib/python3.11/site-packages/torchvision/models/_utils.py:223: UserWarning: Arguments other than a weight enum or `None` for 'weights' are deprecated since 0.13 and may be removed in the future. The current behavior is equivalent to passing `weights=None`.\n",
      "  warnings.warn(msg)\n"
     ]
    },
    {
     "name": "stdout",
     "output_type": "stream",
     "text": [
      "Epoch 1/20, Train Loss: 0.4893, Val Loss: 12.8321, Val Accuracy: 0.2487\n",
      "Epoch 2/20, Train Loss: 0.6698, Val Loss: 14.1187, Val Accuracy: 0.2487\n",
      "Epoch 3/20, Train Loss: 0.8506, Val Loss: 3.0969, Val Accuracy: 0.3225\n",
      "Epoch 4/20, Train Loss: 0.9183, Val Loss: 1.3400, Val Accuracy: 0.5975\n",
      "Epoch 5/20, Train Loss: 0.8568, Val Loss: 1.7483, Val Accuracy: 0.3625\n",
      "Epoch 6/20, Train Loss: 0.3258, Val Loss: 0.2811, Val Accuracy: 0.8575\n",
      "Epoch 7/20, Train Loss: 0.2339, Val Loss: 0.2580, Val Accuracy: 0.9062\n",
      "Epoch 8/20, Train Loss: 0.4363, Val Loss: 1.0717, Val Accuracy: 0.7638\n",
      "Epoch 9/20, Train Loss: 0.3417, Val Loss: 0.1844, Val Accuracy: 0.8938\n",
      "Epoch 10/20, Train Loss: 0.1949, Val Loss: 0.0903, Val Accuracy: 0.9775\n",
      "Epoch 11/20, Train Loss: 0.1003, Val Loss: 1.7318, Val Accuracy: 0.6675\n",
      "Epoch 12/20, Train Loss: 0.0845, Val Loss: 0.0229, Val Accuracy: 0.9975\n",
      "Epoch 13/20, Train Loss: 0.0546, Val Loss: 0.0255, Val Accuracy: 0.9925\n",
      "Epoch 14/20, Train Loss: 0.0200, Val Loss: 0.0119, Val Accuracy: 0.9975\n",
      "Epoch 15/20, Train Loss: 0.0102, Val Loss: 0.0071, Val Accuracy: 1.0000\n",
      "Epoch 16/20, Train Loss: 0.0087, Val Loss: 0.0042, Val Accuracy: 1.0000\n",
      "Epoch 17/20, Train Loss: 0.0067, Val Loss: 0.0024, Val Accuracy: 1.0000\n",
      "Epoch 18/20, Train Loss: 0.0028, Val Loss: 0.0020, Val Accuracy: 1.0000\n",
      "Epoch 19/20, Train Loss: 0.0026, Val Loss: 0.0018, Val Accuracy: 1.0000\n",
      "Epoch 20/20, Train Loss: 0.0035, Val Loss: 0.0012, Val Accuracy: 1.0000\n"
     ]
    }
   ],
   "source": [
    "import torch\n",
    "import torch.nn as nn\n",
    "import torch.optim as optim\n",
    "from torch.utils.data import DataLoader\n",
    "import torchvision.models as models\n",
    "\n",
    "# Initialize the model\n",
    "device = torch.device('cuda' if torch.cuda.is_available() else 'cpu')\n",
    "# device = \"cpu\"\n",
    "resnet_model = models.resnet18(pretrained=False)\n",
    "resnet_model.fc = nn.Linear(resnet_model.fc.in_features, 4)  # Assuming 10 classes\n",
    "resnet_model = resnet_model.to(device)\n",
    "\n",
    "# Define loss and optimizer\n",
    "criterion = nn.CrossEntropyLoss()\n",
    "optimizer = optim.Adam(resnet_model.parameters(), lr=5e-4)\n",
    "\n",
    "# Training function\n",
    "def train_model(model, train_loader, criterion, optimizer, device):\n",
    "    model.train()\n",
    "    running_loss = 0.0\n",
    "    \n",
    "    optimizer.zero_grad()\n",
    "    for images, labels in train_loader:\n",
    "        # Move data to device\n",
    "        images, labels = images.to(device), labels.to(device)\n",
    "\n",
    "        # Select a specific frame (e.g., the first frame) for simplicity\n",
    "        images = images[:, 0, :, :, :]  # Shape now is [batch_size, 3, 32, 32]\n",
    "\n",
    "        # Forward pass\n",
    "        outputs = model(images)\n",
    "        # print(outputs, labels)\n",
    "        loss = criterion(outputs, labels)\n",
    "\n",
    "        # Backward pass and optimize\n",
    "        loss.backward()\n",
    "        optimizer.step()\n",
    "\n",
    "        running_loss += loss.item() * images.size(0)\n",
    "    \n",
    "    epoch_loss = running_loss / len(train_loader.dataset)\n",
    "    return epoch_loss\n",
    "\n",
    "# Validation function\n",
    "def validate_model(model, val_loader, criterion, device):\n",
    "    model.eval()\n",
    "    running_loss = 0.0\n",
    "    correct = 0\n",
    "    total = 0\n",
    "    with torch.no_grad():\n",
    "        for images, labels in val_loader:\n",
    "            # Move data to device\n",
    "            images, labels = images.to(device), labels.to(device)\n",
    "\n",
    "            # Select the same specific frame (e.g., the first frame) for simplicity\n",
    "            images = images[:, 0, :, :, :]\n",
    "\n",
    "            # Forward pass\n",
    "            outputs = model(images)\n",
    "            loss = criterion(outputs.float(), labels.long())\n",
    "\n",
    "            # Calculate accuracy\n",
    "            _, predicted = torch.max(outputs, 1)\n",
    "            total += labels.size(0)\n",
    "            correct += (predicted == labels).sum().item()\n",
    "            running_loss += loss.item() * images.size(0)\n",
    "    \n",
    "    epoch_loss = running_loss / len(val_loader.dataset)\n",
    "    accuracy = correct / total\n",
    "    return epoch_loss, accuracy\n",
    "\n",
    "# Training and validation loop\n",
    "num_epochs = 20\n",
    "for epoch in range(num_epochs):\n",
    "    train_loss = train_model(resnet_model, train_loader, criterion, optimizer, device)\n",
    "    val_loss, val_accuracy = validate_model(resnet_model, vali_loader, criterion, device)\n",
    "\n",
    "    print(f'Epoch {epoch+1}/{num_epochs}, '\n",
    "          f'Train Loss: {train_loss:.4f}, '\n",
    "          f'Val Loss: {val_loss:.4f}, '\n",
    "          f'Val Accuracy: {val_accuracy:.4f}')\n"
   ]
  },
  {
   "cell_type": "code",
   "execution_count": 18,
   "metadata": {},
   "outputs": [
    {
     "name": "stderr",
     "output_type": "stream",
     "text": [
      "/home/cc7486/anaconda3/envs/torch/lib/python3.11/site-packages/torchvision/models/_utils.py:208: UserWarning: The parameter 'pretrained' is deprecated since 0.13 and may be removed in the future, please use 'weights' instead.\n",
      "  warnings.warn(\n",
      "/home/cc7486/anaconda3/envs/torch/lib/python3.11/site-packages/torchvision/models/_utils.py:223: UserWarning: Arguments other than a weight enum or `None` for 'weights' are deprecated since 0.13 and may be removed in the future. The current behavior is equivalent to passing `weights=None`.\n",
      "  warnings.warn(msg)\n"
     ]
    }
   ],
   "source": [
    "import torch\n",
    "import torch.nn.functional as F\n",
    "from torchvision import models\n",
    "import matplotlib.pyplot as plt\n",
    "import numpy as np\n",
    "from PIL import Image\n",
    "\n",
    "# Grad-CAM Implementation\n",
    "class GradCAM:\n",
    "    def __init__(self, model, target_layer):\n",
    "        self.model = model\n",
    "        self.target_layer = target_layer\n",
    "        self.gradients = None\n",
    "        self.activations = None\n",
    "\n",
    "        # Register hooks to save gradients and activations from the target layer\n",
    "        target_layer.register_forward_hook(self.save_activation)\n",
    "        target_layer.register_backward_hook(self.save_gradient)\n",
    "\n",
    "    def save_activation(self, module, input, output):\n",
    "        self.activations = output\n",
    "\n",
    "    def save_gradient(self, module, grad_input, grad_output):\n",
    "        self.gradients = grad_output[0]\n",
    "\n",
    "    def generate_heatmap(self, input_image, target_class):\n",
    "        # Forward pass\n",
    "        self.model.eval()\n",
    "        self.model.zero_grad()\n",
    "        output = self.model(input_image)\n",
    "        target = output[0][target_class]\n",
    "        \n",
    "        # Backward pass\n",
    "        target.backward(retain_graph=True)\n",
    "        \n",
    "        # Calculate weights and Grad-CAM\n",
    "        pooled_gradients = torch.mean(self.gradients, dim=[0, 2, 3])\n",
    "        activations = self.activations[0]\n",
    "        \n",
    "        for i in range(pooled_gradients.shape[0]):\n",
    "            activations[i, :, :] *= pooled_gradients[i]\n",
    "            \n",
    "        heatmap = torch.mean(activations, dim=0).cpu()\n",
    "        heatmap = np.maximum(heatmap.detach().numpy(), 0)  # ReLU on heatmap\n",
    "        heatmap = heatmap / np.max(heatmap)  # Normalize\n",
    "        \n",
    "        return heatmap\n",
    "\n",
    "# Initialize the ResNet-18 model and Grad-CAM\n",
    "model = models.resnet18(pretrained=False)\n",
    "model.fc = torch.nn.Linear(model.fc.in_features, 4)  # 4 classes\n",
    "target_layer = model.layer2[-1]  # Use the last conv layer in layer4 for Grad-CAM\n",
    "grad_cam = GradCAM(model, target_layer)\n",
    "\n",
    "# Function to overlay heatmap on the original image\n",
    "def overlay_heatmap(image, heatmap, alpha=0.5):\n",
    "    # Resize heatmap to match image dimensions\n",
    "    heatmap_resized = np.array(Image.fromarray(heatmap).resize((image.shape[2], image.shape[1])))\n",
    "    \n",
    "    # Scale up the heatmap to improve visibility\n",
    "    heatmap_resized = heatmap_resized * 32\n",
    "    heatmap_colored = plt.cm.jet(heatmap_resized)[:, :, :3]  # Apply colormap and remove alpha channel\n",
    "    overlay = alpha * (image.permute(1, 2, 0).cpu().numpy() / 32.0) + (1 - alpha) * heatmap_colored\n",
    "    \n",
    "    return overlay\n",
    "\n",
    "# Load a sample input for Grad-CAM visualization\n",
    "def apply_gradcam(input_image, target_class):\n",
    "    heatmap = grad_cam.generate_heatmap(input_image, target_class)\n",
    "    \n",
    "    # Display original image with heatmap overlay\n",
    "    plt.figure(figsize=(10, 5))\n",
    "    \n",
    "    # Original image\n",
    "    plt.subplot(1, 2, 1)\n",
    "    plt.imshow(input_image[0].permute(1, 2, 0).cpu().numpy())\n",
    "    plt.title(\"Original Image\")\n",
    "    plt.axis(\"off\")\n",
    "    \n",
    "    # Heatmap overlay\n",
    "    overlay = overlay_heatmap(input_image[0], heatmap)\n",
    "    plt.subplot(1, 2, 2)\n",
    "    plt.imshow(overlay)\n",
    "    plt.title(f\"Grad-CAM Heatmap Overlay for Class {target_class}\")\n",
    "    plt.axis(\"off\")\n",
    "    \n",
    "    plt.show()\n",
    "\n",
    "# Example usage:\n",
    "# Assuming `input_image` is a preprocessed tensor with shape [1, 3, 224, 224]\n",
    "# and `target_class` is the index of the class to visualize\n",
    "# apply_gradcam(input_image, target_class)\n"
   ]
  },
  {
   "cell_type": "code",
   "execution_count": 19,
   "metadata": {},
   "outputs": [
    {
     "name": "stderr",
     "output_type": "stream",
     "text": [
      "/home/cc7486/anaconda3/envs/torch/lib/python3.11/site-packages/torch/nn/modules/module.py:1344: UserWarning: Using a non-full backward hook when the forward contains multiple autograd Nodes is deprecated and will be removed in future versions. This hook will be missing some grad_input. Please use register_full_backward_hook to get the documented behavior.\n",
      "  warnings.warn(\"Using a non-full backward hook when the forward contains multiple autograd Nodes \"\n"
     ]
    },
    {
     "data": {
      "image/png": "[encoded data removed]",
      "text/plain": [
       "<Figure size 720x360 with 2 Axes>"
      ]
     },
     "metadata": {
      "needs_background": "light"
     },
     "output_type": "display_data"
    },
    {
     "data": {
      "image/png": "[encoded data removed]",
      "text/plain": [
       "<Figure size 720x360 with 2 Axes>"
      ]
     },
     "metadata": {
      "needs_background": "light"
     },
     "output_type": "display_data"
    },
    {
     "data": {
      "image/png": "[encoded data removed]",
      "text/plain": [
       "<Figure size 720x360 with 2 Axes>"
      ]
     },
     "metadata": {
      "needs_background": "light"
     },
     "output_type": "display_data"
    },
    {
     "data": {
      "image/png": "[encoded data removed]",
      "text/plain": [
       "<Figure size 720x360 with 2 Axes>"
      ]
     },
     "metadata": {
      "needs_background": "light"
     },
     "output_type": "display_data"
    },
    {
     "data": {
      "image/png": "[encoded data removed]",
      "text/plain": [
       "<Figure size 720x360 with 2 Axes>"
      ]
     },
     "metadata": {
      "needs_background": "light"
     },
     "output_type": "display_data"
    },
    {
     "data": {
      "image/png": "[encoded data removed]",
      "text/plain": [
       "<Figure size 720x360 with 2 Axes>"
      ]
     },
     "metadata": {
      "needs_background": "light"
     },
     "output_type": "display_data"
    },
    {
     "name": "stderr",
     "output_type": "stream",
     "text": [
      "/tmp/ipykernel_2327220/3270769660.py:45: RuntimeWarning: invalid value encountered in divide\n",
      "  heatmap = heatmap / np.max(heatmap)  # Normalize\n"
     ]
    },
    {
     "data": {
      "image/png": "[encoded data removed]",
      "text/plain": [
       "<Figure size 720x360 with 2 Axes>"
      ]
     },
     "metadata": {
      "needs_background": "light"
     },
     "output_type": "display_data"
    }
   ],
   "source": [
    "# Example usage\n",
    "for images, labels in vali_loader:\n",
    "    images = images[:, 21]  # Assuming first two images from the batch\n",
    "    target_class = labels[0].item()  # Use the first label in the batch\n",
    "    apply_gradcam(images, target_class)"
   ]
  },
  {
   "cell_type": "code",
   "execution_count": 5,
   "metadata": {},
   "outputs": [
    {
     "name": "stdout",
     "output_type": "stream",
     "text": [
      "Model saved as resnet_patch.pth\n"
     ]
    }
   ],
   "source": [
    "# Save the model\n",
    "torch.save(resnet_model.state_dict(), 'resnet_patch.pth')\n",
    "print(\"Model saved as resnet_patch.pth\")"
   ]
  }
 ],
 "metadata": {
  "kernelspec": {
   "display_name": "torch",
   "language": "python",
   "name": "python3"
  },
  "language_info": {
   "codemirror_mode": {
    "name": "ipython",
    "version": 3
   },
   "file_extension": ".py",
   "mimetype": "text/x-python",
   "name": "python",
   "nbconvert_exporter": "python",
   "pygments_lexer": "ipython3",
   "version": "3.11.5"
  }
 },
 "nbformat": 4,
 "nbformat_minor": 2
}
